{
 "cells": [
  {
   "cell_type": "code",
   "execution_count": null,
   "id": "752a3b16",
   "metadata": {},
   "outputs": [],
   "source": [
    "import wave\n",
    "import contextlib\n",
    "import struct\n",
    "import path\n",
    "\n",
    "def print_wav_header(file_path):\n",
    "    \"\"\"\n",
    "    Prints the header info of a WAV file at the given file path.\n",
    "    \"\"\"\n",
    "    try:\n",
    "        # Open the WAV file in read mode\n",
    "        with contextlib.closing(wave.open(file_path, 'rb')) as wf:\n",
    "            print(f\"WAV File: {file_path}\")\n",
    "            print(f\"Number of Channels: {wf.getnchannels()}\")\n",
    "            print(f\"Sample Width (bytes): {wf.getsampwidth()}\")\n",
    "            print(f\"Frame Rate (samples/sec): {wf.getframerate()}\")\n",
    "            print(f\"Number of Frames: {wf.getnframes()}\")\n",
    "            print(f\"Compression Type: {wf.getcomptype()}\")\n",
    "            print(f\"Compression Name: {wf.getcompname()}\")\n",
    "            print(f\"Duration (seconds): {wf.getnframes() / wf.getframerate():.2f}\")\n",
    "    except wave.Error as e:\n",
    "        print(f\"Error reading WAV file: {e}\")\n",
    "    except FileNotFoundError:\n",
    "        print(f\"File not found: {file_path}\")\n",
    "\n",
    "def print_wav_header_manual(file_path):\n",
    "    print(\"[fallback] Attempting manual header parsing...\")\n",
    "    try:\n",
    "        with open(file_path, 'rb') as f:\n",
    "            header = f.read(44)  # Standard WAV header is 44 bytes\n",
    "            \n",
    "            # Unpack the header using struct (little-endian format)\n",
    "            unpacked = struct.unpack('<4sI4s4sIHHIIHH4sI', header)\n",
    "\n",
    "            print(f\"ChunkID: {unpacked[0].decode()}\")\n",
    "            print(f\"ChunkSize: {unpacked[1]}\")\n",
    "            print(f\"Format: {unpacked[2].decode()}\")\n",
    "            print(f\"Subchunk1ID: {unpacked[3].decode()}\")\n",
    "            print(f\"Subchunk1Size: {unpacked[4]}\")\n",
    "            print(f\"AudioFormat: {unpacked[5]}\")\n",
    "            print(f\"NumChannels: {unpacked[6]}\")\n",
    "            print(f\"SampleRate: {unpacked[7]}\")\n",
    "            print(f\"ByteRate: {unpacked[8]}\")\n",
    "            print(f\"BlockAlign: {unpacked[9]}\")\n",
    "            print(f\"BitsPerSample: {unpacked[10]}\")\n",
    "            print(f\"Subchunk2ID: {unpacked[11].decode()}\")\n",
    "            print(f\"Subchunk2Size: {unpacked[12]}\")\n",
    "\n",
    "    except FileNotFoundError:\n",
    "        print(f\"File not found: {file_path}\")\n",
    "    except Exception as ex:\n",
    "        print(f\"Failed to manually parse header: {ex}\")"
   ]
  },
  {
   "cell_type": "code",
   "execution_count": null,
   "id": "0887b4a1",
   "metadata": {},
   "outputs": [],
   "source": [
    "with path.open(\"r+b\") as f:\n",
    "    # ── patch RIFF size at byte 4 ────────────────────────────────────\n",
    "    f.seek(4)\n",
    "    f.write(struct.pack(\"<I\", riff_sz))"
   ]
  },
  {
   "cell_type": "code",
   "execution_count": 12,
   "id": "62bf42e3",
   "metadata": {},
   "outputs": [
    {
     "name": "stdout",
     "output_type": "stream",
     "text": [
      "WAV File: ./W.wav\n",
      "Number of Channels: 1\n",
      "Sample Width (bytes): 2\n",
      "Frame Rate (samples/sec): 44100\n",
      "Number of Frames: 3419691\n",
      "Compression Type: NONE\n",
      "Compression Name: not compressed\n",
      "Duration (seconds): 77.54\n"
     ]
    }
   ],
   "source": [
    "print_wav_header(\"./W.wav\")"
   ]
  },
  {
   "cell_type": "code",
   "execution_count": null,
   "id": "1f5c379f",
   "metadata": {},
   "outputs": [
    {
     "name": "stdout",
     "output_type": "stream",
     "text": [
      "Error reading WAV file: fmt chunk and/or data chunk missing\n"
     ]
    }
   ],
   "source": [
    "print_wav_header(\"./wav_samples/in.wav\")\n"
   ]
  },
  {
   "cell_type": "code",
   "execution_count": null,
   "id": "8572578e",
   "metadata": {},
   "outputs": [
    {
     "name": "stdout",
     "output_type": "stream",
     "text": [
      "[fallback] Attempting manual header parsing...\n",
      "ChunkID: RIFF\n",
      "ChunkSize: 6839824\n",
      "Format: WAVE\n",
      "Subchunk1ID: fmt \n",
      "Subchunk1Size: 16\n",
      "AudioFormat: 1\n",
      "NumChannels: 1\n",
      "SampleRate: 44100\n",
      "ByteRate: 88200\n",
      "BlockAlign: 2\n",
      "BitsPerSample: 16\n",
      "Subchunk2ID: LIST\n",
      "Subchunk2Size: 398\n"
     ]
    }
   ],
   "source": [
    "print_wav_header_manual(\"./wav_samples/out.wav\")"
   ]
  },
  {
   "cell_type": "code",
   "execution_count": 15,
   "id": "1cc36c89",
   "metadata": {},
   "outputs": [
    {
     "name": "stdout",
     "output_type": "stream",
     "text": [
      "[fallback] Attempting manual header parsing...\n",
      "ChunkID: RIFF\n",
      "ChunkSize: 6839824\n",
      "Format: WAVE\n",
      "Subchunk1ID: fmt \n",
      "Subchunk1Size: 16\n",
      "AudioFormat: 1\n",
      "NumChannels: 1\n",
      "SampleRate: 44100\n",
      "ByteRate: 88200\n",
      "BlockAlign: 2\n",
      "BitsPerSample: 16\n",
      "Subchunk2ID: LIST\n",
      "Subchunk2Size: 398\n"
     ]
    }
   ],
   "source": [
    "print_wav_header_manual(\"./w2.wav\")"
   ]
  },
  {
   "cell_type": "code",
   "execution_count": 16,
   "id": "18762ec4",
   "metadata": {},
   "outputs": [
    {
     "name": "stdout",
     "output_type": "stream",
     "text": [
      "[fallback] Attempting manual header parsing...\n",
      "ChunkID: RIFF\n",
      "ChunkSize: 2425117\n",
      "Format: WAVE\n",
      "Subchunk1ID: fmt \n",
      "Subchunk1Size: 16\n",
      "AudioFormat: 1\n",
      "NumChannels: 1\n",
      "SampleRate: 48000\n",
      "ByteRate: 96000\n",
      "BlockAlign: 2\n",
      "BitsPerSample: 16\n",
      "Subchunk2ID: LIST\n",
      "Subchunk2Size: 436\n"
     ]
    }
   ],
   "source": [
    "print_wav_header_manual(\"testing.WAV\")"
   ]
  }
 ],
 "metadata": {
  "kernelspec": {
   "display_name": "birdnet-env",
   "language": "python",
   "name": "python3"
  },
  "language_info": {
   "codemirror_mode": {
    "name": "ipython",
    "version": 3
   },
   "file_extension": ".py",
   "mimetype": "text/x-python",
   "name": "python",
   "nbconvert_exporter": "python",
   "pygments_lexer": "ipython3",
   "version": "3.12.11"
  }
 },
 "nbformat": 4,
 "nbformat_minor": 5
}
